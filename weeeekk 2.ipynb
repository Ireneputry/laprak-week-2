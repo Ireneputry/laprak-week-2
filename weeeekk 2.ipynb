{
 "cells": [
  {
   "cell_type": "code",
   "execution_count": 45,
   "id": "c06c9e5a-0609-4350-878a-ce9aa9d65b28",
   "metadata": {},
   "outputs": [
    {
     "name": "stdin",
     "output_type": "stream",
     "text": [
      "Masukkan nilai X :\n",
      " 7\n"
     ]
    },
    {
     "name": "stdout",
     "output_type": "stream",
     "text": [
      "nilai dari f(x) = 7 pada persamaan 2x^3 + 2x + 15/x adalah:\n",
      " 702.1428571428571\n"
     ]
    }
   ],
   "source": [
    "variabel = float(input(\"Masukkan nilai X :\\n\"))\n",
    "def fungsi(x):\n",
    "    persamaan = 2 * x**3 + 2 * x + 15 / x\n",
    "    return persamaan\n",
    "hasil = fungsi(variabel)\n",
    "print(\"nilai dari f(x) =\", round(variabel), \"pada persamaan 2x^3 + 2x + 15/x adalah:\\n\", hasil)\n",
    "    "
   ]
  },
  {
   "cell_type": "code",
   "execution_count": 25,
   "id": "cc902847-1726-461c-b119-c4b69b2d9b89",
   "metadata": {},
   "outputs": [],
   "source": [
    "def fungsi(x):\n",
    "    persamaan = 2 * x**3 + 2 * x + 15 / x\n",
    "    return persamaan"
   ]
  },
  {
   "cell_type": "code",
   "execution_count": null,
   "id": "9ff6c45c-c7be-4fd4-9341-7a5ed5a5ee18",
   "metadata": {},
   "outputs": [],
   "source": [
    " "
   ]
  }
 ],
 "metadata": {
  "kernelspec": {
   "display_name": "Python [conda env:base] *",
   "language": "python",
   "name": "conda-base-py"
  },
  "language_info": {
   "codemirror_mode": {
    "name": "ipython",
    "version": 3
   },
   "file_extension": ".py",
   "mimetype": "text/x-python",
   "name": "python",
   "nbconvert_exporter": "python",
   "pygments_lexer": "ipython3",
   "version": "3.12.7"
  }
 },
 "nbformat": 4,
 "nbformat_minor": 5
}
